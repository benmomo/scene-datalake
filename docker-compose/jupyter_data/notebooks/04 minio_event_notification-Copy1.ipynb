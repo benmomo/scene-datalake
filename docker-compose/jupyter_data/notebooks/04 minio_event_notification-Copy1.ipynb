{
 "cells": [
  {
   "cell_type": "markdown",
   "id": "41988025",
   "metadata": {},
   "source": [
    "# Data Lake Example 4 - Event Notifications\n",
    "For event notifications, there are several useful scenarios in which notifications can inform us about changes or actions taken on objects in a bucket. Notifications are triggered when specific actions (like object creation, deletion, or updates) occur, and they can initiate workflows in other systems like Node-RED or NiFi.\n",
    "\n",
    "Since Kafka and RabbitMQ aren’t available in the current setup of the data lake system, we can focus on using webhook-based notifications with Node-RED.\n",
    "* Example of use-case: Trigger an automated workflow when uploading a new file. For example, if a new video file (.webm) is uploaded, Node-RED (or NiFi) can start a workflow to process the file, such as generating thumbnails or analysing metadata.\n",
    "* Notification Event: s3:ObjectCreated:* (triggers for any type of object creation event).\n"
   ]
  },
  {
   "cell_type": "markdown",
   "id": "19693c20-4ee6-40d9-9c80-2645e0171a03",
   "metadata": {},
   "source": [
    "## 0. Create a Webhook endpoint in Node-RED\n",
    "There is a basic example at: https://youtu.be/HzO4wsL2Eio?si=NDiqUGyHaKv5hm4K\n",
    "### 1. *Open Node-RED* in your browser \n",
    "\n",
    "* Typically at https://nodered.scene-dl.satrdlab.upv.e unless configured otherwise.\n",
    "\n",
    "### 2. *Add an HTTP In Node*:\n",
    "\n",
    "* Drag an http in node onto the canvas. This will act as the webhook endpoint.\n",
    "* Set the method to POST and URL to /test-minio (or any path you prefer).\n",
    "* This endpoint URL will be https://nodered.scene-dl.satrdlab.upv.es/test-minio (assuming Node-RED runs through the proxy).\n",
    "\n",
    "### 3. *Add a Debug Node*:\n",
    "\n",
    "* Drag a debug node onto the canvas.\n",
    "* Connect the http in node to the debug node.\n",
    "* Set the debug node to display the full message object (msg.payload). This will allow us to see the incoming notification data in the debug pane.\n",
    "\n",
    "### 4. *Add an HTTP Response Node*:\n",
    "\n",
    "* Drag an http response node to the canvas.\n",
    "* Connect the http in node to the http response node.\n",
    "* This node will send a response back to Minio, confirming that the notification was received.\n",
    "\n",
    "### 5. *Deploy the Flow*:\n",
    "\n",
    "* Click the Deploy button to save and activate the flow.\n",
    "* Once deployed, Node-RED will be ready to receive event notifications at http://localhost:1880/s3-webhook."
   ]
  },
  {
   "cell_type": "markdown",
   "id": "a85622bc-26d7-4b3b-98da-aa6b118bff44",
   "metadata": {},
   "source": [
    "## 1. Load libraries and common configuration\n",
    "For this example, it is better to use the minio library, otherwise you might get errors due to not-compatibility formats with the webhook-functionality\n",
    "\n",
    "Example for not-compatibbility: WebhookConfigurations, CloudFunctionConfigurations, and EventBridgeConfigurations are not valid keys in the NotificationConfiguration dictionary for the native AWS S3 API. These configurations were specific to Minio's custom webhook functionality, which isn't compatible with the standard boto3 API."
   ]
  },
  {
   "cell_type": "code",
   "execution_count": 9,
   "id": "070edd51-4804-447c-a703-c20a1b66cb34",
   "metadata": {},
   "outputs": [
    {
     "name": "stdout",
     "output_type": "stream",
     "text": [
      "Requirement already satisfied: minio in /opt/conda/lib/python3.11/site-packages (7.2.10)\n",
      "Requirement already satisfied: certifi in /opt/conda/lib/python3.11/site-packages (2023.7.22)\n",
      "Requirement already satisfied: urllib3 in /opt/conda/lib/python3.11/site-packages (from minio) (2.0.7)\n",
      "Requirement already satisfied: argon2-cffi in /opt/conda/lib/python3.11/site-packages (from minio) (23.1.0)\n",
      "Requirement already satisfied: pycryptodome in /opt/conda/lib/python3.11/site-packages (from minio) (3.21.0)\n",
      "Requirement already satisfied: typing-extensions in /opt/conda/lib/python3.11/site-packages (from minio) (4.8.0)\n",
      "Requirement already satisfied: argon2-cffi-bindings in /opt/conda/lib/python3.11/site-packages (from argon2-cffi->minio) (21.2.0)\n",
      "Requirement already satisfied: cffi>=1.0.1 in /opt/conda/lib/python3.11/site-packages (from argon2-cffi-bindings->argon2-cffi->minio) (1.16.0)\n",
      "Requirement already satisfied: pycparser in /opt/conda/lib/python3.11/site-packages (from cffi>=1.0.1->argon2-cffi-bindings->argon2-cffi->minio) (2.21)\n",
      "Requirement already satisfied: minio in /opt/conda/lib/python3.11/site-packages (7.2.10)\n",
      "Requirement already satisfied: certifi in /opt/conda/lib/python3.11/site-packages (from minio) (2023.7.22)\n",
      "Requirement already satisfied: urllib3 in /opt/conda/lib/python3.11/site-packages (from minio) (2.0.7)\n",
      "Requirement already satisfied: argon2-cffi in /opt/conda/lib/python3.11/site-packages (from minio) (23.1.0)\n",
      "Requirement already satisfied: pycryptodome in /opt/conda/lib/python3.11/site-packages (from minio) (3.21.0)\n",
      "Requirement already satisfied: typing-extensions in /opt/conda/lib/python3.11/site-packages (from minio) (4.8.0)\n",
      "Requirement already satisfied: argon2-cffi-bindings in /opt/conda/lib/python3.11/site-packages (from argon2-cffi->minio) (21.2.0)\n",
      "Requirement already satisfied: cffi>=1.0.1 in /opt/conda/lib/python3.11/site-packages (from argon2-cffi-bindings->argon2-cffi->minio) (1.16.0)\n",
      "Requirement already satisfied: pycparser in /opt/conda/lib/python3.11/site-packages (from cffi>=1.0.1->argon2-cffi-bindings->argon2-cffi->minio) (2.21)\n"
     ]
    }
   ],
   "source": [
    "# Install necessary packages\n",
    "!pip install minio certifi\n",
    "!pip install --upgrade minio"
   ]
  },
  {
   "cell_type": "code",
   "execution_count": 9,
   "id": "05bd83a3-6e50-4e02-aa36-30c29095d438",
   "metadata": {},
   "outputs": [
    {
     "name": "stdout",
     "output_type": "stream",
     "text": [
      "Bucket: coldbucket\n",
      "Bucket: testbucket\n"
     ]
    }
   ],
   "source": [
    "from minio import Minio\n",
    "from datetime import datetime\n",
    "\n",
    "import requests\n",
    "from requests.auth import HTTPBasicAuth\n",
    "import json\n",
    "\n",
    "import os\n",
    "import ssl\n",
    "import certifi\n",
    "import sys\n",
    "import warnings\n",
    "warnings.filterwarnings('ignore')\n",
    "\n",
    "#Some issues might appear (SSL verification error) with yhe client if python is not properly configured. \n",
    "# You might find this line useful to skip the error \n",
    "ssl._create_default_https_context = ssl._create_unverified_context\n",
    "\n",
    "\n",
    "# MinIO server connection information\n",
    "minio_url = 's3api.scene-dl.satrdlab.upv.es'  # Replace with your MinIO instance URL\n",
    "access_key = 'testuser'       # Replace with your actual access key\n",
    "secret_key = 'testscene'       # Replace with your actual secret key\n",
    "\n",
    "\n",
    "# Initialize Minio client\n",
    "minio_client = Minio(\n",
    "    minio_url,  \n",
    "    access_key,\n",
    "    secret_key,\n",
    "    secure=True  # Set to True if using HTTPS\n",
    ")\n",
    "\n",
    "# Test connection by listing buckets\n",
    "try:\n",
    "    buckets = minio_client.list_buckets()\n",
    "    for bucket in buckets:\n",
    "        print(f\"Bucket: {bucket.name}\")\n",
    "except S3Error as e:\n",
    "    print(f\"Error: {e}\")"
   ]
  },
  {
   "cell_type": "markdown",
   "id": "5ee4571e-d7d4-4b71-94d2-5431140847fa",
   "metadata": {},
   "source": [
    "## 2. Configuring S3 Event Notifications"
   ]
  },
  {
   "cell_type": "code",
   "execution_count": 10,
   "id": "88df3379",
   "metadata": {},
   "outputs": [
    {
     "name": "stdout",
     "output_type": "stream",
     "text": [
      "Error setting notification: b'<?xml version=\"1.0\" encoding=\"UTF-8\"?>\\n<Error><Code>InvalidRequest</Code><Message>The authorization mechanism you have provided is not supported. Please use AWS4-HMAC-SHA256.</Message><Resource>/testbucket</Resource><RequestId>1805AF8445567211</RequestId><HostId>dd9025bab4ad464b049177c95eb6ebf374d3b3fd1af9251148b658df7ac2e3e8</HostId></Error>'\n"
     ]
    }
   ],
   "source": [
    "# Parameters\n",
    "bucket_name = \"testbucket\"\n",
    "node_red_webhook_url = \"https://nodered.scene-dl.satrdlab.upv.es/test-minio\"  # Node-RED webhook URL for notifications\n",
    "\n",
    "# Define the notification configuration JSON\n",
    "notification_config = {\n",
    "    \"QueueConfigurations\": [\n",
    "        {\n",
    "            \"QueueArn\": \"arn:minio:sqs::NodeRedQueue\",\n",
    "            \"Events\": [\"s3:ObjectCreated:*\"],\n",
    "            \"Filter\": {\n",
    "                \"Key\": {\n",
    "                    \"FilterRules\": [\n",
    "                        {\"Name\": \"prefix\", \"Value\": \"\"},\n",
    "                        {\"Name\": \"suffix\", \"Value\": \"\"}\n",
    "                    ]\n",
    "                }\n",
    "            },\n",
    "            \"QueueUrl\": node_red_webhook_url\n",
    "        }\n",
    "    ]\n",
    "}\n",
    "\n",
    "# Convert to JSON\n",
    "json_config = json.dumps(notification_config)\n",
    "\n",
    "# Get current date and time in the required format (e.g., 20231106T123456Z)\n",
    "current_date = datetime.utcnow().strftime('%Y%m%dT%H%M%SZ')\n",
    "\n",
    "# Set the notification using MinIO's REST API\n",
    "headers = {\n",
    "    'Content-Type': 'application/json',\n",
    "    'x-amz-content-sha256': 'UNSIGNED-PAYLOAD',\n",
    "    'x-amz-date': current_date\n",
    "}\n",
    "\n",
    "# Replace URL to match your MinIO server and region\n",
    "response = requests.put(\n",
    "    f\"https://{minio_url}/{bucket_name}?notification\",\n",
    "    headers=headers,\n",
    "    data=json_config,\n",
    "    auth=HTTPBasicAuth(access_key, secret_key)  # Use HTTPBasicAuth for authentication\n",
    ")\n",
    "\n",
    "if response.status_code == 200:\n",
    "    print(\"Notification successfully configured\")\n",
    "else:\n",
    "    print(\"Error setting notification:\", response.content)\n"
   ]
  },
  {
   "cell_type": "markdown",
   "id": "d73bcc46-60df-457d-b81f-feb5dccfc6c5",
   "metadata": {},
   "source": [
    "## 2. List all files from a bucket within a Data Lake"
   ]
  },
  {
   "cell_type": "code",
   "execution_count": 6,
   "id": "002fa084-bc05-4ff4-9c5c-149e8dcf7b41",
   "metadata": {},
   "outputs": [
    {
     "name": "stdout",
     "output_type": "stream",
     "text": [
      "athens.jpg\n",
      "images/athens2.png\n"
     ]
    }
   ],
   "source": [
    "# List objects in the bucket\n",
    "response = client.list_objects(Bucket=bucket_name)\n",
    "\n",
    "# Print each file name (key)\n",
    "if 'Contents' in response:\n",
    "    for file in response['Contents']:\n",
    "        print(file['Key'])\n",
    "else:\n",
    "    print(\"No files found in the bucket.\")"
   ]
  },
  {
   "cell_type": "markdown",
   "id": "28bdc124-2a8e-4dd2-a8ac-200ed9bc194c",
   "metadata": {},
   "source": [
    "## 3. Download file from a Data Lake"
   ]
  },
  {
   "cell_type": "code",
   "execution_count": 7,
   "id": "a3a10158-16ba-4fdb-85a9-9a267a2d511c",
   "metadata": {},
   "outputs": [
    {
     "name": "stdout",
     "output_type": "stream",
     "text": [
      "Downloaded images/athens2.png to athens_download.png\n"
     ]
    }
   ],
   "source": [
    "# File details\n",
    "download_path='athens_download.png'\n",
    "bucket_name='testbucket'\n",
    "object_name = 'images/athens2.png'    \n",
    "\n",
    "# Download the file\n",
    "client.download_file(bucket_name, object_name, download_path)\n",
    "print(f\"Downloaded {object_name} to {download_path}\")"
   ]
  },
  {
   "cell_type": "markdown",
   "id": "5994f68a-54f6-4e77-9eeb-c22027c7f596",
   "metadata": {},
   "source": [
    "## 4. Delete a file from the Data Lake"
   ]
  },
  {
   "cell_type": "code",
   "execution_count": 8,
   "id": "e9c681da-26b1-4569-9588-ad1f6f813715",
   "metadata": {},
   "outputs": [
    {
     "name": "stdout",
     "output_type": "stream",
     "text": [
      "Delete successful\n"
     ]
    }
   ],
   "source": [
    "# Delete the file\n",
    "client.delete_object(Bucket=bucket_name, Key=object_name)\n",
    "print(\"Delete successful\")"
   ]
  },
  {
   "cell_type": "code",
   "execution_count": null,
   "id": "934e83c7-e1bc-47ea-a59d-4b31eaad93c7",
   "metadata": {},
   "outputs": [],
   "source": []
  }
 ],
 "metadata": {
  "kernelspec": {
   "display_name": "Python 3 (ipykernel)",
   "language": "python",
   "name": "python3"
  },
  "language_info": {
   "codemirror_mode": {
    "name": "ipython",
    "version": 3
   },
   "file_extension": ".py",
   "mimetype": "text/x-python",
   "name": "python",
   "nbconvert_exporter": "python",
   "pygments_lexer": "ipython3",
   "version": "3.11.6"
  }
 },
 "nbformat": 4,
 "nbformat_minor": 5
}
