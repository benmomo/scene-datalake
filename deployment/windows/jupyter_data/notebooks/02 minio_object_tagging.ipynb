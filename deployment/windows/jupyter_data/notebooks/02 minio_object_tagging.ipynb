{
 "cells": [
  {
   "cell_type": "markdown",
   "id": "41988025",
   "metadata": {},
   "source": [
    "# Data Lake Example 2 - Object tagging\n",
    "Why Use Object Tagging?\n",
    "\n",
    "Object tagging is useful for adding custom metadata to objects, which makes it easier to organize, manage, and search for objects within your storage buckets. In the film-making industry, for instance, you might use tags to indicate the project, scene, priority, or other attributes relevant to an asset."
   ]
  },
  {
   "cell_type": "markdown",
   "id": "a85622bc-26d7-4b3b-98da-aa6b118bff44",
   "metadata": {},
   "source": [
    "## 0. Load libraries and common configuration"
   ]
  },
  {
   "cell_type": "code",
   "execution_count": 1,
   "id": "070edd51-4804-447c-a703-c20a1b66cb34",
   "metadata": {
    "scrolled": true
   },
   "outputs": [
    {
     "name": "stdout",
     "output_type": "stream",
     "text": [
      "Requirement already satisfied: boto3 in /opt/conda/lib/python3.11/site-packages (1.37.29)\n",
      "Requirement already satisfied: certifi in /opt/conda/lib/python3.11/site-packages (2023.7.22)\n",
      "Requirement already satisfied: botocore<1.38.0,>=1.37.29 in /opt/conda/lib/python3.11/site-packages (from boto3) (1.37.29)\n",
      "Requirement already satisfied: jmespath<2.0.0,>=0.7.1 in /opt/conda/lib/python3.11/site-packages (from boto3) (1.0.1)\n",
      "Requirement already satisfied: s3transfer<0.12.0,>=0.11.0 in /opt/conda/lib/python3.11/site-packages (from boto3) (0.11.4)\n",
      "Requirement already satisfied: python-dateutil<3.0.0,>=2.1 in /opt/conda/lib/python3.11/site-packages (from botocore<1.38.0,>=1.37.29->boto3) (2.8.2)\n",
      "Requirement already satisfied: urllib3!=2.2.0,<3,>=1.25.4 in /opt/conda/lib/python3.11/site-packages (from botocore<1.38.0,>=1.37.29->boto3) (2.0.7)\n",
      "Requirement already satisfied: six>=1.5 in /opt/conda/lib/python3.11/site-packages (from python-dateutil<3.0.0,>=2.1->botocore<1.38.0,>=1.37.29->boto3) (1.16.0)\n"
     ]
    }
   ],
   "source": [
    "# Install necessary packages\n",
    "!pip install boto3 certifi"
   ]
  },
  {
   "cell_type": "code",
   "execution_count": 2,
   "id": "05bd83a3-6e50-4e02-aa36-30c29095d438",
   "metadata": {},
   "outputs": [
    {
     "name": "stdout",
     "output_type": "stream",
     "text": [
      "Libraries loaded successfully\n"
     ]
    }
   ],
   "source": [
    "import boto3\n",
    "from botocore.client import Config\n",
    "from botocore.exceptions import ClientError\n",
    "import os\n",
    "import ssl\n",
    "import certifi\n",
    "import sys\n",
    "import warnings\n",
    "warnings.filterwarnings('ignore')\n",
    "\n",
    "#Some issues might appear (SSL verification error) with yhe client if python is not properly configured. \n",
    "# You might find this line useful to skip the error \n",
    "ssl._create_default_https_context = ssl._create_unverified_context\n",
    "\n",
    "\n",
    "# MinIO server connection information\n",
    "minio_url = 'https://s3api.scene.local'  # Replace with your MinIO instance URL\n",
    "access_key = 'testuser'       # Replace with your actual access key\n",
    "secret_key = 'testscene'       # Replace with your actual secret key\n",
    "\n",
    "\n",
    "# Initialize a session using boto3\n",
    "session = boto3.session.Session()\n",
    "\n",
    "# Create a client with the MinIO server\n",
    "# Add \"verify=False\" tothe list if you have troubles with SSL verification\n",
    "s3_client = session.client(\n",
    "    's3',\n",
    "    verify=False,\n",
    "    endpoint_url=minio_url,    \n",
    "    aws_access_key_id=access_key,\n",
    "    aws_secret_access_key=secret_key,\n",
    "    config=Config(signature_version='s3v4'),\n",
    "    region_name='us-east-1'  # You can choose any region name. Not applicable here\n",
    ")\n",
    "print(\"Libraries loaded successfully\")"
   ]
  },
  {
   "cell_type": "markdown",
   "id": "5ee4571e-d7d4-4b71-94d2-5431140847fa",
   "metadata": {},
   "source": [
    "## 1. Adding Tags to Objects\n",
    "In this step, we’ll add different tags to athens.png (an image) and athens.webm (a video file) in testbucket. We’ll apply a unique set of tags for each object."
   ]
  },
  {
   "cell_type": "code",
   "execution_count": 6,
   "id": "88df3379",
   "metadata": {},
   "outputs": [
    {
     "name": "stdout",
     "output_type": "stream",
     "text": [
      "Tags applied to athens.png: FileType=Image&Location=Athens&Priority=Medium\n",
      "Tags applied to athens.webm: FileType=Video&Location=Athens&Priority=High\n"
     ]
    }
   ],
   "source": [
    "# Parameters\n",
    "bucket_name = \"testbucket\"\n",
    "object_key_image = \"athens.png\"  # Image file\n",
    "object_key_video = \"athens.webm\"  # Video file\n",
    "\n",
    "# Define tags for each object\n",
    "tags_image = [\n",
    "    {'Key': 'FileType', 'Value': 'Image'},\n",
    "    {'Key': 'Location', 'Value': 'Athens'},\n",
    "    {'Key': 'Priority', 'Value': 'Medium'}\n",
    "]\n",
    "\n",
    "tags_video = [\n",
    "    {'Key': 'FileType', 'Value': 'Video'},\n",
    "    {'Key': 'Location', 'Value': 'Athens'},\n",
    "    {'Key': 'Priority', 'Value': 'High'}\n",
    "]\n",
    "\n",
    "def add_tags_to_object(bucket_name, object_key, tags, client=s3_client):\n",
    "    # Convert the list of tags to the expected format (query string)\n",
    "    tag_string = '&'.join([f\"{tag['Key']}={tag['Value']}\" for tag in tags])\n",
    "    \n",
    "    try:\n",
    "        response = client.put_object_tagging(\n",
    "            Bucket=bucket_name,\n",
    "            Key=object_key,\n",
    "            Tagging={'TagSet': tags}\n",
    "        )\n",
    "        print(f\"Tags applied to {object_key}: {tag_string}\")\n",
    "    except ClientError as e:\n",
    "        print(f\"Error tagging object {object_key}: {e}\")\n",
    "\n",
    "\n",
    "# Add tags to athens.png (image)\n",
    "add_tags_to_object(bucket_name, object_key_image, tags_image)\n",
    "\n",
    "# Add tags to athens.webm (video)\n",
    "add_tags_to_object(bucket_name, object_key_video, tags_video)\n"
   ]
  },
  {
   "cell_type": "markdown",
   "id": "d73bcc46-60df-457d-b81f-feb5dccfc6c5",
   "metadata": {},
   "source": [
    "## 2. Retrieving Tags for Each Object\n",
    "Now that we’ve tagged the objects, let’s retrieve and display these tags to verify that they were correctly applied."
   ]
  },
  {
   "cell_type": "code",
   "execution_count": 7,
   "id": "002fa084-bc05-4ff4-9c5c-149e8dcf7b41",
   "metadata": {},
   "outputs": [
    {
     "name": "stdout",
     "output_type": "stream",
     "text": [
      "Tags for athens.png in testbucket: [{'Key': 'FileType', 'Value': 'Image'}, {'Key': 'Location', 'Value': 'Athens'}, {'Key': 'Priority', 'Value': 'Medium'}]\n",
      "Tags for athens.webm in testbucket: [{'Key': 'FileType', 'Value': 'Video'}, {'Key': 'Location', 'Value': 'Athens'}, {'Key': 'Priority', 'Value': 'High'}]\n"
     ]
    }
   ],
   "source": [
    "def get_tags_for_object(bucket_name, object_key):\n",
    "    try:\n",
    "        # Retrieve tags for the object\n",
    "        response = s3_client.get_object_tagging(Bucket=bucket_name, Key=object_key)\n",
    "        tags = response['TagSet']\n",
    "        print(f\"Tags for {object_key} in {bucket_name}: {tags}\")\n",
    "    except ClientError as e:\n",
    "        print(f\"Error retrieving tags for object {object_key}: {e}\")\n",
    "\n",
    "# Retrieve and display tags for athens.png\n",
    "get_tags_for_object(bucket_name, object_key_image)\n",
    "\n",
    "# Retrieve and display tags for athens.webm\n",
    "get_tags_for_object(bucket_name, object_key_video)\n"
   ]
  },
  {
   "cell_type": "markdown",
   "id": "5994f68a-54f6-4e77-9eeb-c22027c7f596",
   "metadata": {},
   "source": [
    "## 3. List Objects with a Specific Tag (Limitations in S3 API)\n",
    "Unfortunately, the standard S3 API does not support filtering objects by tags directly. You cannot use the S3 API to directly query or list objects based on tags. Instead, you would typically need to:\n",
    "* List all objects in the bucket.\n",
    "* Retrieve each object’s tags individually and then filter based on the tags you’re interested in.\n",
    "\n",
    "Below is a workaround approach to list objects in testbucket and filter them by a specific tag, e.g., \"Priority\": \"High\"."
   ]
  },
  {
   "cell_type": "code",
   "execution_count": 8,
   "id": "e9c681da-26b1-4569-9588-ad1f6f813715",
   "metadata": {},
   "outputs": [
    {
     "name": "stdout",
     "output_type": "stream",
     "text": [
      "Listing objects in testbucket with tag 'Priority: High':\n",
      "- athens.webm matches tag 'Priority: High'\n"
     ]
    }
   ],
   "source": [
    "def list_objects_with_tag(bucket_name, tag_key, tag_value):\n",
    "    try:\n",
    "        # List all objects in the bucket\n",
    "        response = s3_client.list_objects_v2(Bucket=bucket_name)\n",
    "        \n",
    "        if 'Contents' in response:\n",
    "            print(f\"Listing objects in {bucket_name} with tag '{tag_key}: {tag_value}':\")\n",
    "            for obj in response['Contents']:\n",
    "                object_key = obj['Key']\n",
    "                \n",
    "                # Retrieve the tags for each object\n",
    "                tag_response = s3_client.get_object_tagging(Bucket=bucket_name, Key=object_key)\n",
    "                tags = {tag['Key']: tag['Value'] for tag in tag_response['TagSet']}\n",
    "                \n",
    "                # Check if the object has the specified tag key and value\n",
    "                if tags.get(tag_key) == tag_value:\n",
    "                    print(f\"- {object_key} matches tag '{tag_key}: {tag_value}'\")\n",
    "        else:\n",
    "            print(f\"No objects found in bucket: {bucket_name}\")\n",
    "    except ClientError as e:\n",
    "        print(f\"Error listing objects with tag {tag_key}: {tag_value} in {bucket_name}: {e}\")\n",
    "\n",
    "# List objects in testbucket with the tag \"Priority: High\"\n",
    "list_objects_with_tag(bucket_name, \"Priority\", \"High\")\n"
   ]
  },
  {
   "cell_type": "markdown",
   "id": "59478569-b90d-45ad-9f17-cd0bdfe795e8",
   "metadata": {},
   "source": [
    "## 4. Removing a Specific Tag from an Object\n",
    "Below is the code for removing a specific tag from an object. We’ll demonstrate removing the Priority tag from the athens.webm object in testbucket."
   ]
  },
  {
   "cell_type": "code",
   "execution_count": 7,
   "id": "a7f9b190-7c70-4e0f-bcfd-f33a18ea2098",
   "metadata": {},
   "outputs": [
    {
     "name": "stdout",
     "output_type": "stream",
     "text": [
      "Tag 'Priority' removed from athens.webm in testbucket.\n",
      "Updated tags: [{'Key': 'FileType', 'Value': 'Video'}, {'Key': 'Location', 'Value': 'Athens'}]\n"
     ]
    }
   ],
   "source": [
    "def remove_tag_from_object(bucket_name, object_key, tag_key_to_remove):\n",
    "    try:\n",
    "        # Step 1: Retrieve the current tags\n",
    "        response = s3_client.get_object_tagging(Bucket=bucket_name, Key=object_key)\n",
    "        current_tags = response['TagSet']\n",
    "        \n",
    "        # Step 2: Filter out the tag we want to remove\n",
    "        updated_tags = [tag for tag in current_tags if tag['Key'] != tag_key_to_remove]\n",
    "        \n",
    "        # Step 3: Reapply the updated tags to the object\n",
    "        s3_client.put_object_tagging(\n",
    "            Bucket=bucket_name,\n",
    "            Key=object_key,\n",
    "            Tagging={'TagSet': updated_tags}\n",
    "        )\n",
    "        \n",
    "        print(f\"Tag '{tag_key_to_remove}' removed from {object_key} in {bucket_name}.\")\n",
    "        print(f\"Updated tags: {updated_tags}\")\n",
    "    except ClientError as e:\n",
    "        print(f\"Error removing tag '{tag_key_to_remove}' from object {object_key}: {e}\")\n",
    "\n",
    "# Remove the 'Priority' tag from athens.webm\n",
    "remove_tag_from_object(bucket_name, object_key_video, 'Priority')\n"
   ]
  },
  {
   "cell_type": "markdown",
   "id": "40e1f330-a3a5-4024-93c7-db2a116305c5",
   "metadata": {},
   "source": [
    "## 5. Removing all Tags from an Object\n",
    "Below is the code for removing all tags from an athens.webm and athens.png"
   ]
  },
  {
   "cell_type": "code",
   "execution_count": 9,
   "id": "55754a20-9edc-4048-adde-a946dda508fa",
   "metadata": {},
   "outputs": [
    {
     "name": "stdout",
     "output_type": "stream",
     "text": [
      "Tags removed from athens.png in bucket testbucket\n",
      "Tags removed from athens.webm in bucket testbucket\n"
     ]
    }
   ],
   "source": [
    "# Function to delete all tags from an object\n",
    "def delete_object_tags(bucket_name, object_key):\n",
    "    s3_client.delete_object_tagging(Bucket=bucket_name, Key=object_key)\n",
    "    print(f\"Tags removed from {object_key} in bucket {bucket_name}\")\n",
    "\n",
    "# Define your bucket and object keys\n",
    "bucket_name = 'testbucket'\n",
    "object_keys = ['athens.png', 'athens.webm']\n",
    "\n",
    "# Remove tags from each object\n",
    "for object_key in object_keys:\n",
    "    delete_object_tags(bucket_name, object_key)"
   ]
  },
  {
   "cell_type": "code",
   "execution_count": null,
   "id": "2c7b6e34-75b9-41fd-a341-3b61b1ba0e3d",
   "metadata": {},
   "outputs": [],
   "source": []
  }
 ],
 "metadata": {
  "kernelspec": {
   "display_name": "Python 3 (ipykernel)",
   "language": "python",
   "name": "python3"
  },
  "language_info": {
   "codemirror_mode": {
    "name": "ipython",
    "version": 3
   },
   "file_extension": ".py",
   "mimetype": "text/x-python",
   "name": "python",
   "nbconvert_exporter": "python",
   "pygments_lexer": "ipython3",
   "version": "3.11.6"
  }
 },
 "nbformat": 4,
 "nbformat_minor": 5
}
