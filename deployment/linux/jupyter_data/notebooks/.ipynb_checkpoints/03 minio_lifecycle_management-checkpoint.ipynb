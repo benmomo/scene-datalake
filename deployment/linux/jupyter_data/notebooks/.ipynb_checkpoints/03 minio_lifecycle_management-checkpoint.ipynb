{
 "cells": [
  {
   "cell_type": "markdown",
   "id": "41988025",
   "metadata": {},
   "source": [
    "# Data Lake Example 3 - Lifecycle Management"
   ]
  },
  {
   "cell_type": "markdown",
   "id": "a85622bc-26d7-4b3b-98da-aa6b118bff44",
   "metadata": {},
   "source": [
    "## 0. Load libraries and common configuration"
   ]
  },
  {
   "cell_type": "code",
   "execution_count": 1,
   "id": "070edd51-4804-447c-a703-c20a1b66cb34",
   "metadata": {},
   "outputs": [
    {
     "name": "stdout",
     "output_type": "stream",
     "text": [
      "Requirement already satisfied: boto3 in /opt/conda/lib/python3.11/site-packages (1.37.29)\n",
      "Requirement already satisfied: certifi in /opt/conda/lib/python3.11/site-packages (2023.7.22)\n",
      "Requirement already satisfied: botocore<1.38.0,>=1.37.29 in /opt/conda/lib/python3.11/site-packages (from boto3) (1.37.29)\n",
      "Requirement already satisfied: jmespath<2.0.0,>=0.7.1 in /opt/conda/lib/python3.11/site-packages (from boto3) (1.0.1)\n",
      "Requirement already satisfied: s3transfer<0.12.0,>=0.11.0 in /opt/conda/lib/python3.11/site-packages (from boto3) (0.11.4)\n",
      "Requirement already satisfied: python-dateutil<3.0.0,>=2.1 in /opt/conda/lib/python3.11/site-packages (from botocore<1.38.0,>=1.37.29->boto3) (2.8.2)\n",
      "Requirement already satisfied: urllib3!=2.2.0,<3,>=1.25.4 in /opt/conda/lib/python3.11/site-packages (from botocore<1.38.0,>=1.37.29->boto3) (2.0.7)\n",
      "Requirement already satisfied: six>=1.5 in /opt/conda/lib/python3.11/site-packages (from python-dateutil<3.0.0,>=2.1->botocore<1.38.0,>=1.37.29->boto3) (1.16.0)\n"
     ]
    }
   ],
   "source": [
    "# Install necessary packages\n",
    "!pip install boto3 certifi"
   ]
  },
  {
   "cell_type": "code",
   "execution_count": 2,
   "id": "05bd83a3-6e50-4e02-aa36-30c29095d438",
   "metadata": {},
   "outputs": [
    {
     "name": "stdout",
     "output_type": "stream",
     "text": [
      "Libraries loaded successfully\n"
     ]
    }
   ],
   "source": [
    "import boto3\n",
    "from botocore.client import Config\n",
    "import datetime\n",
    "from botocore.exceptions import ClientError\n",
    "import os\n",
    "import ssl\n",
    "import certifi\n",
    "import sys\n",
    "import warnings\n",
    "warnings.filterwarnings('ignore')\n",
    "\n",
    "#Some issues might appear (SSL verification error) with yhe client if python is not properly configured. \n",
    "# You might find this line useful to skip the error \n",
    "ssl._create_default_https_context = ssl._create_unverified_context\n",
    "\n",
    "\n",
    "# MinIO server connection information\n",
    "minio_url = 'https://s3api.scene.local'  # Replace with your MinIO instance URL\n",
    "access_key = 'testuser'       # Replace with your actual access key\n",
    "secret_key = 'testscene'       # Replace with your actual secret key\n",
    "\n",
    "\n",
    "# Initialize a session using boto3\n",
    "session = boto3.session.Session()\n",
    "\n",
    "# Create a client with the MinIO server\n",
    "# Add \"verify=False\" to the list if you have troubles with SSL verification\n",
    "s3_client = session.client(\n",
    "    's3',\n",
    "    verify=False,\n",
    "    endpoint_url=minio_url,    \n",
    "    aws_access_key_id=access_key,\n",
    "    aws_secret_access_key=secret_key,\n",
    "    config=Config(signature_version='s3v4'),\n",
    "    region_name='us-east-1'  # You can choose any region name. Not applicable here\n",
    ")\n",
    "print(\"Libraries loaded successfully\")"
   ]
  },
  {
   "cell_type": "markdown",
   "id": "5ee4571e-d7d4-4b71-94d2-5431140847fa",
   "metadata": {},
   "source": [
    "## 1.  Python Script to Move Objects from testbucket to coldbucket\n",
    "This script checks testbucket for objects older than X days (e.g. X=30), moves them to coldbucket, and deletes them from testbucket."
   ]
  },
  {
   "cell_type": "code",
   "execution_count": 3,
   "id": "2b237570-2994-42d1-8211-55e00f5acd10",
   "metadata": {},
   "outputs": [
    {
     "name": "stdout",
     "output_type": "stream",
     "text": [
      "Listing objects in bucket: testbucket\n",
      "Found 2 objects in testbucket\n",
      "Processing object: athens.png - Last Modified: 2024-11-06 08:28:15.989000+00:00\n",
      "Object age: 153 days\n",
      "Processing object: athens.webm - Last Modified: 2025-04-08 17:55:50.220000+00:00\n",
      "Object age: 0 days\n",
      "Moved athens.png from testbucket to coldbucket\n",
      "Total objects moved to coldbucket: 1\n"
     ]
    }
   ],
   "source": [
    "# Parameters\n",
    "source_bucket = \"testbucket\"\n",
    "target_bucket = \"coldbucket\"\n",
    "archive_days = 30  # Days after which objects are moved to cold storage\n",
    "\n",
    "def move_to_coldbucket():\n",
    "    # Initialize an action log and counter\n",
    "    action_log = []\n",
    "    moved_count = 0\n",
    "    current_date = datetime.datetime.now(datetime.timezone.utc)\n",
    "    \n",
    "    try:\n",
    "        print(f\"Listing objects in bucket: {source_bucket}\")\n",
    "        response = s3_client.list_objects_v2(Bucket=source_bucket)\n",
    "        \n",
    "        # Check if the bucket has contents\n",
    "        if 'Contents' in response:\n",
    "            print(f\"Found {len(response['Contents'])} objects in {source_bucket}\")\n",
    "            for obj in response['Contents']:\n",
    "                print(f\"Processing object: {obj['Key']} - Last Modified: {obj['LastModified']}\")\n",
    "                \n",
    "                # Calculate object age\n",
    "                object_age = current_date - obj['LastModified']\n",
    "                print(f\"Object age: {object_age.days} days\")\n",
    "                \n",
    "                # Check if the object is older than the archive threshold\n",
    "                if object_age.days > archive_days:\n",
    "                    # Copy object to target (cold) bucket\n",
    "                    copy_source = {'Bucket': source_bucket, 'Key': obj['Key']}\n",
    "                    s3_client.copy_object(\n",
    "                        CopySource=copy_source,\n",
    "                        Bucket=target_bucket,\n",
    "                        Key=obj['Key']\n",
    "                    )\n",
    "                    # Delete the original object from the source bucket\n",
    "                    s3_client.delete_object(Bucket=source_bucket, Key=obj['Key'])\n",
    "                    \n",
    "                    # Increment counter and log action\n",
    "                    moved_count += 1\n",
    "                    log_entry = f\"Moved {obj['Key']} from {source_bucket} to {target_bucket}\"\n",
    "                    action_log.append(log_entry)\n",
    "                    #print(log_entry)\n",
    "        else:\n",
    "            print(\"No objects found in the source bucket.\")\n",
    "            action_log.append(\"No objects found in the source bucket.\")\n",
    "    except ClientError as e:\n",
    "        print(\"Error occurred:\", e)\n",
    "        action_log.append(f\"Error occurred: {e}\")\n",
    "    \n",
    "    # Print the final count of moved objects\n",
    "    #print(f\"Total objects moved to {target_bucket}: {moved_count}\")\n",
    "    action_log.append(f\"Total objects moved to {target_bucket}: {moved_count}\")\n",
    "    \n",
    "    return action_log  # Return the log of actions\n",
    "\n",
    "# Run the function and print the results\n",
    "log = move_to_coldbucket()\n",
    "for entry in log:\n",
    "    print(entry)\n",
    "\n"
   ]
  },
  {
   "cell_type": "markdown",
   "id": "d73bcc46-60df-457d-b81f-feb5dccfc6c5",
   "metadata": {},
   "source": [
    "## 2. Apply a Deletion Policy on coldbucket\n",
    "Set a lifecycle policy on coldbucket to automatically delete objects older than X days (e.g. 90 days)."
   ]
  },
  {
   "cell_type": "code",
   "execution_count": 4,
   "id": "002fa084-bc05-4ff4-9c5c-149e8dcf7b41",
   "metadata": {},
   "outputs": [
    {
     "name": "stdout",
     "output_type": "stream",
     "text": [
      "Applying deletion policy to bucket: coldbucket\n",
      "Policy Details: Objects will be deleted after 1 days\n",
      "Deletion policy successfully applied to coldbucket.\n"
     ]
    }
   ],
   "source": [
    "def apply_deletion_policy(bucket_name, expiration_days=1):\n",
    "    # Define the deletion policy configuration\n",
    "    deletion_policy = {\n",
    "        'Rules': [\n",
    "            {\n",
    "                'ID': 'DeleteOldObjects',\n",
    "                'Filter': {'Prefix': ''},  # Apply to all objects in the bucket\n",
    "                'Status': 'Enabled',\n",
    "                'Expiration': {\n",
    "                    'Days': expiration_days\n",
    "                }\n",
    "            }\n",
    "        ]\n",
    "    }\n",
    "    \n",
    "    print(f\"Applying deletion policy to bucket: {bucket_name}\")\n",
    "    print(f\"Policy Details: Objects will be deleted after {expiration_days} days\")\n",
    "    \n",
    "    try:\n",
    "        # Apply the deletion policy to the specified bucket\n",
    "        s3_client.put_bucket_lifecycle_configuration(\n",
    "            Bucket=bucket_name,\n",
    "            LifecycleConfiguration=deletion_policy\n",
    "        )\n",
    "        print(f\"Deletion policy successfully applied to {bucket_name}.\")\n",
    "    except ClientError as e:\n",
    "        # Display detailed error information if something goes wrong\n",
    "        print(f\"Error occurred while applying deletion policy to {bucket_name}: {e}\")\n",
    "\n",
    "\n",
    "# Apply the deletion policy to coldbucket\n",
    "apply_deletion_policy(\"coldbucket\")\n"
   ]
  },
  {
   "cell_type": "code",
   "execution_count": null,
   "id": "7812f451-1808-46ac-8823-d57da7c4e1f4",
   "metadata": {},
   "outputs": [],
   "source": []
  }
 ],
 "metadata": {
  "kernelspec": {
   "display_name": "Python 3 (ipykernel)",
   "language": "python",
   "name": "python3"
  },
  "language_info": {
   "codemirror_mode": {
    "name": "ipython",
    "version": 3
   },
   "file_extension": ".py",
   "mimetype": "text/x-python",
   "name": "python",
   "nbconvert_exporter": "python",
   "pygments_lexer": "ipython3",
   "version": "3.11.6"
  }
 },
 "nbformat": 4,
 "nbformat_minor": 5
}
