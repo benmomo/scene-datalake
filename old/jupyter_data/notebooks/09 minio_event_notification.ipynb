{
 "cells": [
  {
   "cell_type": "markdown",
   "id": "41988025",
   "metadata": {},
   "source": [
    "# Data Lake Example 4 - Event Notifications\n",
    "For event notifications, there are several useful scenarios in which notifications can inform us about changes or actions taken on objects in a bucket. Notifications are triggered when specific actions (like object creation, deletion, or updates) occur, and they can initiate workflows in other systems like Node-RED or NiFi.\n",
    "\n",
    "Since Kafka and RabbitMQ aren’t available in the current setup of the data lake system, we can focus on using webhook-based notifications with Node-RED.\n",
    "* Example of use-case: Trigger an automated workflow when uploading a new file. For example, if a new video file (.webm) is uploaded, Node-RED (or NiFi) can start a workflow to process the file, such as generating thumbnails or analysing metadata.\n",
    "* Notification Event: s3:ObjectCreated:* (triggers for any type of object creation event).\n"
   ]
  },
  {
   "cell_type": "markdown",
   "id": "19693c20-4ee6-40d9-9c80-2645e0171a03",
   "metadata": {},
   "source": [
    "## 0. Create a Webhook endpoint in Node-RED\n",
    "There is a basic example at: https://youtu.be/HzO4wsL2Eio?si=NDiqUGyHaKv5hm4K\n",
    "### a. *Open Node-RED* in your browser \n",
    "\n",
    "* Typically at https://nodered.scene-dl.satrdlab.upv.e unless configured otherwise.\n",
    "\n",
    "### b. *Add an HTTP In Node*:\n",
    "\n",
    "* Drag an http in node onto the canvas. This will act as the webhook endpoint.\n",
    "* Set the method to POST and URL to /test-minio (or any path you prefer).\n",
    "* This endpoint URL will be https://nodered.scene-dl.satrdlab.upv.es/test-minio (assuming Node-RED runs through the proxy).\n",
    "\n",
    "### c. *Add a Debug Node*:\n",
    "\n",
    "* Drag a debug node onto the canvas.\n",
    "* Connect the http in node to the debug node.\n",
    "* Set the debug node to display the full message object (msg.payload). This will allow us to see the incoming notification data in the debug pane.\n",
    "\n",
    "### d. *Add an HTTP Response Node*:\n",
    "\n",
    "* Drag an http response node to the canvas.\n",
    "* Connect the http in node to the http response node.\n",
    "* This node will send a response back to Minio, confirming that the notification was received.\n",
    "\n",
    "### e. *Deploy the Flow*:\n",
    "\n",
    "* Click the Deploy button to save and activate the flow.\n",
    "* Once deployed, Node-RED will be ready to receive event notifications at http://localhost:1880/s3-webhook."
   ]
  },
  {
   "cell_type": "markdown",
   "id": "fb0798e5-0d7c-4876-aa3c-fcad57659ba0",
   "metadata": {},
   "source": [
    "## 1. Problems with development libraries\n",
    "- Unfortunately, Boto3 does not directly support webhook notifications with MinIO\n",
    "- Performing direct request to Minio's API with the Python 'requests' library is not straightforward\n",
    "- Instead, it is more practical to directly use the mc client library"
   ]
  },
  {
   "cell_type": "markdown",
   "id": "a85622bc-26d7-4b3b-98da-aa6b118bff44",
   "metadata": {},
   "source": [
    "## 1. Load libraries and common configuration\n",
    "For this example, it is better to use the minio library, otherwise you might get errors due to not-compatibility formats with the webhook-functionality\n",
    "\n",
    "Example for not-compatibbility: WebhookConfigurations, CloudFunctionConfigurations, and EventBridgeConfigurations are not valid keys in the NotificationConfiguration dictionary for the native AWS S3 API. These configurations were specific to Minio's custom webhook functionality, which isn't compatible with the standard boto3 API."
   ]
  },
  {
   "cell_type": "code",
   "execution_count": 26,
   "id": "05bd83a3-6e50-4e02-aa36-30c29095d438",
   "metadata": {},
   "outputs": [
    {
     "name": "stdout",
     "output_type": "stream",
     "text": [
      "Error al configurar la notificación: <?xml version=\"1.0\" encoding=\"UTF-8\"?>\n",
      "<Error><Code>SignatureDoesNotMatch</Code><Message>The request signature we calculated does not match the signature you provided. Check your key and signing method.</Message><BucketName>testbucket</BucketName><Resource>/testbucket</Resource><RequestId>1806E6F7D50296DD</RequestId><HostId>dd9025bab4ad464b049177c95eb6ebf374d3b3fd1af9251148b658df7ac2e3e8</HostId></Error>\n"
     ]
    }
   ],
   "source": [
    "import requests\n",
    "import json\n",
    "import hashlib\n",
    "import hmac\n",
    "import datetime\n",
    "\n",
    "# Información de conexión\n",
    "minio_url = 's3api.scene-dl.satrdlab.upv.es'  # Solo dominio\n",
    "access_key = 'testuser'\n",
    "secret_key = 'testscene'\n",
    "bucket_name = 'testbucket'\n",
    "region = 'us-east-1'\n",
    "\n",
    "# Webhook URL de Node-RED\n",
    "node_red_webhook_url = \"https://nodered.scene-dl.satrdlab.upv.es/test-minio\"\n",
    "\n",
    "# Configuración de notificación\n",
    "notification_config = {\n",
    "    \"QueueConfigurations\": [\n",
    "        {\n",
    "            \"QueueArn\": \"arn:minio:sqs::webhook\",\n",
    "            \"Events\": [\"s3:ObjectCreated:*\"],\n",
    "            \"Filter\": {\n",
    "                \"Key\": {\n",
    "                    \"FilterRules\": [\n",
    "                        {\"Name\": \"suffix\", \"Value\": \"*\"}\n",
    "                    ]\n",
    "                }\n",
    "            },\n",
    "            \"Queue\": {\n",
    "                \"Endpoint\": node_red_webhook_url,\n",
    "                \"QueueArn\": \"arn:minio:sqs::webhook\"\n",
    "            }\n",
    "        }\n",
    "    ]\n",
    "}\n",
    "\n",
    "# Convertir configuración a JSON\n",
    "json_config = json.dumps(notification_config)\n",
    "\n",
    "# Obtener fecha y hora actual en UTC\n",
    "current_time = datetime.datetime.utcnow()\n",
    "amz_date = current_time.strftime('%Y%m%dT%H%M%SZ')\n",
    "date_stamp = current_time.strftime('%Y%m%d')\n",
    "\n",
    "# Canonical request\n",
    "canonical_uri = f'/{bucket_name}'\n",
    "canonical_querystring = 'notification'\n",
    "canonical_headers = f'host:{minio_url}\\nx-amz-date:{amz_date}\\n'\n",
    "signed_headers = 'host;x-amz-date'\n",
    "payload_hash = hashlib.sha256(json_config.encode('utf-8')).hexdigest()\n",
    "\n",
    "canonical_request = (\n",
    "    f'PUT\\n'\n",
    "    f'{canonical_uri}\\n'\n",
    "    f'{canonical_querystring}\\n'\n",
    "    f'{canonical_headers}\\n'\n",
    "    f'{signed_headers}\\n'\n",
    "    f'{payload_hash}'\n",
    ")\n",
    "\n",
    "# String to sign\n",
    "algorithm = 'AWS4-HMAC-SHA256'\n",
    "credential_scope = f'{date_stamp}/{region}/s3/aws4_request'\n",
    "string_to_sign = (\n",
    "    f'{algorithm}\\n'\n",
    "    f'{amz_date}\\n'\n",
    "    f'{credential_scope}\\n'\n",
    "    f'{hashlib.sha256(canonical_request.encode(\"utf-8\")).hexdigest()}'\n",
    ")\n",
    "\n",
    "# Crear la clave de firma\n",
    "def sign(key, msg):\n",
    "    return hmac.new(key, msg.encode('utf-8'), hashlib.sha256).digest()\n",
    "\n",
    "def get_signature_key(key, date_stamp, region_name, service_name):\n",
    "    k_date = sign(('AWS4' + key).encode('utf-8'), date_stamp)\n",
    "    k_region = sign(k_date, region_name)\n",
    "    k_service = sign(k_region, service_name)\n",
    "    k_signing = sign(k_service, 'aws4_request')\n",
    "    return k_signing\n",
    "\n",
    "signing_key = get_signature_key(secret_key, date_stamp, region, 's3')\n",
    "signature = hmac.new(signing_key, string_to_sign.encode('utf-8'), hashlib.sha256).hexdigest()\n",
    "\n",
    "# Encabezado de autorización\n",
    "authorization_header = (\n",
    "    f'{algorithm} Credential={access_key}/{credential_scope}, '\n",
    "    f'SignedHeaders={signed_headers}, Signature={signature}'\n",
    ")\n",
    "\n",
    "# Encabezados de la solicitud\n",
    "headers = {\n",
    "    'Content-Type': 'application/json',\n",
    "    'x-amz-date': amz_date,\n",
    "    'Authorization': authorization_header\n",
    "}\n",
    "\n",
    "# Realizar la solicitud PUT\n",
    "url = f\"https://{minio_url}/{bucket_name}?notification\"\n",
    "response = requests.put(url, headers=headers, data=json_config)\n",
    "\n",
    "# Resultado de la solicitud\n",
    "if response.status_code == 200:\n",
    "    print(\"Notificación configurada exitosamente.\")\n",
    "else:\n",
    "    print(\"Error al configurar la notificación:\", response.content.decode())\n",
    "\n"
   ]
  },
  {
   "cell_type": "markdown",
   "id": "5ee4571e-d7d4-4b71-94d2-5431140847fa",
   "metadata": {},
   "source": [
    "## 2. Configuring S3 Event Notifications"
   ]
  },
  {
   "cell_type": "code",
   "execution_count": 22,
   "id": "88df3379",
   "metadata": {},
   "outputs": [
    {
     "name": "stdout",
     "output_type": "stream",
     "text": [
      "Error setting notification: An error occurred (UnsupportedNotification) when calling the PutBucketNotificationConfiguration operation: MinIO server does not support Topic or Cloud Function based notifications.\n"
     ]
    }
   ],
   "source": [
    "# Parameters\n",
    "bucket_name = \"testbucket\"\n",
    "node_red_webhook_url = \"https://nodered.scene-dl.satrdlab.upv.es/test-minio\"  # Node-RED webhook URL for notifications\n",
    "\n",
    "# Define the event notification configuration\n",
    "notification_config = {\n",
    "    \"LambdaFunctionConfigurations\": [\n",
    "        {\n",
    "            \"LambdaFunctionArn\": f\"arn:minio:sqs::NodeRedQueue:{node_red_webhook_url}\",\n",
    "            \"Events\": [\"s3:ObjectCreated:*\"]\n",
    "        }\n",
    "    ]\n",
    "}\n",
    "\n",
    "\n",
    "# Convert to JSON format\n",
    "notification_json = json.dumps(notification_config)\n",
    "\n",
    "# Get current date and time in the required format (e.g., 20231106T123456Z)\n",
    "current_date = datetime.utcnow().strftime('%Y%m%dT%H%M%SZ')\n",
    "\n",
    "# Apply the notification configuration to the bucket\n",
    "try:\n",
    "    response = s3_client.put_bucket_notification_configuration(\n",
    "        Bucket=bucket_name,\n",
    "        NotificationConfiguration=notification_config\n",
    "    )\n",
    "    print(\"Notification configuration applied:\", response)\n",
    "except Exception as e:\n",
    "    print(\"Error setting notification:\", e)"
   ]
  },
  {
   "cell_type": "markdown",
   "id": "d73bcc46-60df-457d-b81f-feb5dccfc6c5",
   "metadata": {},
   "source": [
    "## 2. List all files from a bucket within a Data Lake"
   ]
  },
  {
   "cell_type": "code",
   "execution_count": 6,
   "id": "002fa084-bc05-4ff4-9c5c-149e8dcf7b41",
   "metadata": {},
   "outputs": [
    {
     "name": "stdout",
     "output_type": "stream",
     "text": [
      "athens.jpg\n",
      "images/athens2.png\n"
     ]
    }
   ],
   "source": [
    "# List objects in the bucket\n",
    "response = client.list_objects(Bucket=bucket_name)\n",
    "\n",
    "# Print each file name (key)\n",
    "if 'Contents' in response:\n",
    "    for file in response['Contents']:\n",
    "        print(file['Key'])\n",
    "else:\n",
    "    print(\"No files found in the bucket.\")"
   ]
  },
  {
   "cell_type": "markdown",
   "id": "28bdc124-2a8e-4dd2-a8ac-200ed9bc194c",
   "metadata": {},
   "source": [
    "## 3. Download file from a Data Lake"
   ]
  },
  {
   "cell_type": "code",
   "execution_count": 7,
   "id": "a3a10158-16ba-4fdb-85a9-9a267a2d511c",
   "metadata": {},
   "outputs": [
    {
     "name": "stdout",
     "output_type": "stream",
     "text": [
      "Downloaded images/athens2.png to athens_download.png\n"
     ]
    }
   ],
   "source": [
    "# File details\n",
    "download_path='athens_download.png'\n",
    "bucket_name='testbucket'\n",
    "object_name = 'images/athens2.png'    \n",
    "\n",
    "# Download the file\n",
    "client.download_file(bucket_name, object_name, download_path)\n",
    "print(f\"Downloaded {object_name} to {download_path}\")"
   ]
  },
  {
   "cell_type": "markdown",
   "id": "5994f68a-54f6-4e77-9eeb-c22027c7f596",
   "metadata": {},
   "source": [
    "## 4. Delete a file from the Data Lake"
   ]
  },
  {
   "cell_type": "code",
   "execution_count": 8,
   "id": "e9c681da-26b1-4569-9588-ad1f6f813715",
   "metadata": {},
   "outputs": [
    {
     "name": "stdout",
     "output_type": "stream",
     "text": [
      "Delete successful\n"
     ]
    }
   ],
   "source": [
    "# Delete the file\n",
    "client.delete_object(Bucket=bucket_name, Key=object_name)\n",
    "print(\"Delete successful\")"
   ]
  },
  {
   "cell_type": "code",
   "execution_count": null,
   "id": "934e83c7-e1bc-47ea-a59d-4b31eaad93c7",
   "metadata": {},
   "outputs": [],
   "source": []
  }
 ],
 "metadata": {
  "kernelspec": {
   "display_name": "Python 3 (ipykernel)",
   "language": "python",
   "name": "python3"
  },
  "language_info": {
   "codemirror_mode": {
    "name": "ipython",
    "version": 3
   },
   "file_extension": ".py",
   "mimetype": "text/x-python",
   "name": "python",
   "nbconvert_exporter": "python",
   "pygments_lexer": "ipython3",
   "version": "3.11.6"
  }
 },
 "nbformat": 4,
 "nbformat_minor": 5
}
