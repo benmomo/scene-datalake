{
 "cells": [
  {
   "cell_type": "markdown",
   "id": "6b9bf60a-38a8-46e6-a6c2-620927a17390",
   "metadata": {},
   "source": [
    "# Data Lake Example 4 - Object Versioning"
   ]
  },
  {
   "cell_type": "markdown",
   "id": "a85622bc-26d7-4b3b-98da-aa6b118bff44",
   "metadata": {},
   "source": [
    "## 0. Load libraries and common configuration\n",
    "Object Versioning allows a bucket to store multiple versions of the same object, which is useful for restoring previous versions or maintaining a history of changes"
   ]
  },
  {
   "cell_type": "code",
   "execution_count": 2,
   "id": "070edd51-4804-447c-a703-c20a1b66cb34",
   "metadata": {},
   "outputs": [
    {
     "name": "stdout",
     "output_type": "stream",
     "text": [
      "Requirement already satisfied: minio in /opt/conda/lib/python3.11/site-packages (7.2.10)\n",
      "Requirement already satisfied: certifi in /opt/conda/lib/python3.11/site-packages (2023.7.22)\n",
      "Requirement already satisfied: urllib3 in /opt/conda/lib/python3.11/site-packages (from minio) (2.0.7)\n",
      "Requirement already satisfied: argon2-cffi in /opt/conda/lib/python3.11/site-packages (from minio) (23.1.0)\n",
      "Requirement already satisfied: pycryptodome in /opt/conda/lib/python3.11/site-packages (from minio) (3.21.0)\n",
      "Requirement already satisfied: typing-extensions in /opt/conda/lib/python3.11/site-packages (from minio) (4.8.0)\n",
      "Requirement already satisfied: argon2-cffi-bindings in /opt/conda/lib/python3.11/site-packages (from argon2-cffi->minio) (21.2.0)\n",
      "Requirement already satisfied: cffi>=1.0.1 in /opt/conda/lib/python3.11/site-packages (from argon2-cffi-bindings->argon2-cffi->minio) (1.16.0)\n",
      "Requirement already satisfied: pycparser in /opt/conda/lib/python3.11/site-packages (from cffi>=1.0.1->argon2-cffi-bindings->argon2-cffi->minio) (2.21)\n"
     ]
    }
   ],
   "source": [
    "# Install necessary packages\n",
    "!pip install minio certifi "
   ]
  },
  {
   "cell_type": "markdown",
   "id": "5ee4571e-d7d4-4b71-94d2-5431140847fa",
   "metadata": {},
   "source": [
    "## 1. Enable Versioning on the Bucket\n",
    "To work with versioning, we need to enable it on the bucket using the Minio client. "
   ]
  },
  {
   "cell_type": "code",
   "execution_count": 14,
   "id": "88df3379",
   "metadata": {},
   "outputs": [
    {
     "name": "stdout",
     "output_type": "stream",
     "text": [
      "Error enabling versioning: S3 operation failed; code: AccessDenied, message: Access Denied., resource: /testbucket, request_id: 1806FBE724B50E1D, host_id: dd9025bab4ad464b049177c95eb6ebf374d3b3fd1af9251148b658df7ac2e3e8, bucket_name: testbucket\n"
     ]
    }
   ],
   "source": [
    "from minio import Minio\n",
    "from minio.error import S3Error\n",
    "from minio.versioningconfig import VersioningConfig\n",
    "from urllib3 import make_headers, PoolManager\n",
    "\n",
    "import ssl\n",
    "import warnings\n",
    "warnings.filterwarnings('ignore')\n",
    "\n",
    "#Some issues might appear (SSL verification error) with yhe client if python is not properly configured. \n",
    "# You might find this line useful to skip the error \n",
    "ssl._create_default_https_context = ssl._create_unverified_context\n",
    "\n",
    "# Custom HTTP client with SSL verification disabled\n",
    "http_client = PoolManager(cert_reqs='CERT_NONE')\n",
    "\n",
    "# Minio client configuration\n",
    "minio_url = 's3api.scene.local'\n",
    "access_key = 'testuser'\n",
    "secret_key = 'testscene'\n",
    "\n",
    "# Initialize Minio client\n",
    "minio_client = Minio(\n",
    "    minio_url,\n",
    "    access_key=access_key,\n",
    "    secret_key=secret_key,\n",
    "    secure=True,\n",
    "    http_client=http_client  # Disables SSL verification\n",
    ")\n",
    "\n",
    "bucket_name = \"testbucket\"\n",
    "\n",
    "# Enable versioning on the bucket using VersioningConfig\n",
    "try:\n",
    "    versioning_config = VersioningConfig(status=\"Enabled\")\n",
    "    minio_client.set_bucket_versioning(bucket_name, versioning_config)\n",
    "    print(f\"Versioning enabled on bucket '{bucket_name}'.\")\n",
    "except S3Error as e:\n",
    "    print(f\"Error enabling versioning: {e}\")\n"
   ]
  },
  {
   "cell_type": "markdown",
   "id": "d73bcc46-60df-457d-b81f-feb5dccfc6c5",
   "metadata": {},
   "source": [
    "## 2. List all files from a bucket within a Data Lake"
   ]
  },
  {
   "cell_type": "code",
   "execution_count": 10,
   "id": "002fa084-bc05-4ff4-9c5c-149e8dcf7b41",
   "metadata": {},
   "outputs": [
    {
     "name": "stdout",
     "output_type": "stream",
     "text": [
      "athens.png\n",
      "athens.webm\n",
      "images/athens2.png\n"
     ]
    }
   ],
   "source": [
    "# List objects in the bucket\n",
    "response = s3_client.list_objects(Bucket=bucket_name)\n",
    "\n",
    "# Print each file name (key)\n",
    "if 'Contents' in response:\n",
    "    for file in response['Contents']:\n",
    "        print(file['Key'])\n",
    "else:\n",
    "    print(\"No files found in the bucket.\")"
   ]
  },
  {
   "cell_type": "markdown",
   "id": "28bdc124-2a8e-4dd2-a8ac-200ed9bc194c",
   "metadata": {},
   "source": [
    "## 3. Download file from a Data Lake"
   ]
  },
  {
   "cell_type": "code",
   "execution_count": 11,
   "id": "a3a10158-16ba-4fdb-85a9-9a267a2d511c",
   "metadata": {},
   "outputs": [
    {
     "name": "stdout",
     "output_type": "stream",
     "text": [
      "Downloaded images/athens2.png to athens_download.png\n"
     ]
    }
   ],
   "source": [
    "# File details\n",
    "download_path='athens_download.png'\n",
    "bucket_name='testbucket'\n",
    "object_name = 'images/athens2.png'    \n",
    "\n",
    "# Download the file\n",
    "s3_client.download_file(bucket_name, object_name, download_path)\n",
    "print(f\"Downloaded {object_name} to {download_path}\")"
   ]
  },
  {
   "cell_type": "markdown",
   "id": "5994f68a-54f6-4e77-9eeb-c22027c7f596",
   "metadata": {},
   "source": [
    "## 4. Delete a file from the Data Lake"
   ]
  },
  {
   "cell_type": "code",
   "execution_count": 7,
   "id": "e9c681da-26b1-4569-9588-ad1f6f813715",
   "metadata": {},
   "outputs": [
    {
     "name": "stdout",
     "output_type": "stream",
     "text": [
      "Delete successful\n"
     ]
    }
   ],
   "source": [
    "# Delete the file\n",
    "s3_client.delete_object(Bucket=bucket_name, Key=object_name)\n",
    "print(\"Delete successful\")"
   ]
  },
  {
   "cell_type": "code",
   "execution_count": null,
   "id": "84019fcf-4013-45ce-9e57-c8efbbf0ce94",
   "metadata": {},
   "outputs": [],
   "source": []
  }
 ],
 "metadata": {
  "kernelspec": {
   "display_name": "Python 3 (ipykernel)",
   "language": "python",
   "name": "python3"
  },
  "language_info": {
   "codemirror_mode": {
    "name": "ipython",
    "version": 3
   },
   "file_extension": ".py",
   "mimetype": "text/x-python",
   "name": "python",
   "nbconvert_exporter": "python",
   "pygments_lexer": "ipython3",
   "version": "3.11.6"
  }
 },
 "nbformat": 4,
 "nbformat_minor": 5
}
