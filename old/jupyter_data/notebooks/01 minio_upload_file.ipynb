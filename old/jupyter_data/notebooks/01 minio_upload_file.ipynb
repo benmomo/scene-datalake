{
 "cells": [
  {
   "cell_type": "markdown",
   "id": "6b9bf60a-38a8-46e6-a6c2-620927a17390",
   "metadata": {},
   "source": [
    "# Data Lake Example 1 - Upload files into Minio"
   ]
  },
  {
   "cell_type": "markdown",
   "id": "a85622bc-26d7-4b3b-98da-aa6b118bff44",
   "metadata": {},
   "source": [
    "## 0. Load libraries and common configuration"
   ]
  },
  {
   "cell_type": "code",
   "execution_count": 2,
   "id": "070edd51-4804-447c-a703-c20a1b66cb34",
   "metadata": {},
   "outputs": [
    {
     "name": "stdout",
     "output_type": "stream",
     "text": [
      "Collecting boto3\n",
      "  Downloading boto3-1.35.57-py3-none-any.whl.metadata (6.7 kB)\n",
      "Requirement already satisfied: certifi in /opt/conda/lib/python3.11/site-packages (2023.7.22)\n",
      "Collecting botocore<1.36.0,>=1.35.57 (from boto3)\n",
      "  Downloading botocore-1.35.57-py3-none-any.whl.metadata (5.7 kB)\n",
      "Collecting jmespath<2.0.0,>=0.7.1 (from boto3)\n",
      "  Downloading jmespath-1.0.1-py3-none-any.whl.metadata (7.6 kB)\n",
      "Collecting s3transfer<0.11.0,>=0.10.0 (from boto3)\n",
      "  Downloading s3transfer-0.10.3-py3-none-any.whl.metadata (1.7 kB)\n",
      "Requirement already satisfied: python-dateutil<3.0.0,>=2.1 in /opt/conda/lib/python3.11/site-packages (from botocore<1.36.0,>=1.35.57->boto3) (2.8.2)\n",
      "Requirement already satisfied: urllib3!=2.2.0,<3,>=1.25.4 in /opt/conda/lib/python3.11/site-packages (from botocore<1.36.0,>=1.35.57->boto3) (2.0.7)\n",
      "Requirement already satisfied: six>=1.5 in /opt/conda/lib/python3.11/site-packages (from python-dateutil<3.0.0,>=2.1->botocore<1.36.0,>=1.35.57->boto3) (1.16.0)\n",
      "Downloading boto3-1.35.57-py3-none-any.whl (139 kB)\n",
      "\u001b[2K   \u001b[90m━━━━━━━━━━━━━━━━━━━━━━━━━━━━━━━━━━━━━━━━\u001b[0m \u001b[32m139.2/139.2 kB\u001b[0m \u001b[31m2.4 MB/s\u001b[0m eta \u001b[36m0:00:00\u001b[0m \u001b[36m0:00:01\u001b[0m\n",
      "\u001b[?25hDownloading botocore-1.35.57-py3-none-any.whl (12.7 MB)\n",
      "\u001b[2K   \u001b[90m━━━━━━━━━━━━━━━━━━━━━━━━━━━━━━━━━━━━━━━━\u001b[0m \u001b[32m12.7/12.7 MB\u001b[0m \u001b[31m11.2 MB/s\u001b[0m eta \u001b[36m0:00:00\u001b[0m00:01\u001b[0m00:01\u001b[0m\n",
      "\u001b[?25hDownloading jmespath-1.0.1-py3-none-any.whl (20 kB)\n",
      "Downloading s3transfer-0.10.3-py3-none-any.whl (82 kB)\n",
      "\u001b[2K   \u001b[90m━━━━━━━━━━━━━━━━━━━━━━━━━━━━━━━━━━━━━━━━\u001b[0m \u001b[32m82.6/82.6 kB\u001b[0m \u001b[31m7.8 MB/s\u001b[0m eta \u001b[36m0:00:00\u001b[0m\n",
      "\u001b[?25hInstalling collected packages: jmespath, botocore, s3transfer, boto3\n",
      "Successfully installed boto3-1.35.57 botocore-1.35.57 jmespath-1.0.1 s3transfer-0.10.3\n"
     ]
    }
   ],
   "source": [
    "# Install necessary packages\n",
    "!pip install boto3 certifi"
   ]
  },
  {
   "cell_type": "code",
   "execution_count": 8,
   "id": "05bd83a3-6e50-4e02-aa36-30c29095d438",
   "metadata": {},
   "outputs": [
    {
     "name": "stdout",
     "output_type": "stream",
     "text": [
      "Libraries loaded successfully\n"
     ]
    }
   ],
   "source": [
    "import boto3\n",
    "from botocore.client import Config\n",
    "import os\n",
    "import ssl\n",
    "import certifi\n",
    "import sys\n",
    "import warnings\n",
    "warnings.filterwarnings('ignore')\n",
    "\n",
    "#Some issues might appear (SSL verification error) with yhe client if python is not properly configured. \n",
    "# You might find this line useful to skip the error \n",
    "ssl._create_default_https_context = ssl._create_unverified_context\n",
    "\n",
    "\n",
    "# MinIO server connection information\n",
    "minio_url = 'https://s3api.scene.local'  # Replace with your MinIO instance URL\n",
    "access_key = 'testuser'       # Replace with your actual access key\n",
    "secret_key = 'testscene'       # Replace with your actual secret key\n",
    "\n",
    "\n",
    "# Initialize a session using boto3\n",
    "session = boto3.session.Session()\n",
    "\n",
    "# Create a client with the MinIO server\n",
    "# Add \"verify=False\" tothe list if you have troubles with SSL verification\n",
    "s3_client = session.client(\n",
    "    's3',\n",
    "    verify=False,\n",
    "    endpoint_url=minio_url,    \n",
    "    aws_access_key_id=access_key,\n",
    "    aws_secret_access_key=secret_key,\n",
    "    config=Config(signature_version='s3v4'),\n",
    "    region_name='us-east-1'  # You can choose any region name. Not applicable here\n",
    ")\n",
    "print(\"Libraries loaded successfully\")"
   ]
  },
  {
   "cell_type": "markdown",
   "id": "5ee4571e-d7d4-4b71-94d2-5431140847fa",
   "metadata": {},
   "source": [
    "## 1. Upload a file to the Data Lake"
   ]
  },
  {
   "cell_type": "code",
   "execution_count": 9,
   "id": "88df3379",
   "metadata": {},
   "outputs": [
    {
     "name": "stdout",
     "output_type": "stream",
     "text": [
      "Upload successful\n"
     ]
    }
   ],
   "source": [
    "file_path='athens.png'\n",
    "bucket_name = 'testbucket'     # Bucket to upload the file to\n",
    "object_name = 'images/athens2.png'    # Object name in the bucket (can be a path like 'folder/file.txt')\n",
    "\n",
    "# Upload the file\n",
    "s3_client.upload_file(file_path, bucket_name, object_name)\n",
    "print(\"Upload successful\")"
   ]
  },
  {
   "cell_type": "markdown",
   "id": "d73bcc46-60df-457d-b81f-feb5dccfc6c5",
   "metadata": {},
   "source": [
    "## 2. List all files from a bucket within a Data Lake"
   ]
  },
  {
   "cell_type": "code",
   "execution_count": 10,
   "id": "002fa084-bc05-4ff4-9c5c-149e8dcf7b41",
   "metadata": {},
   "outputs": [
    {
     "name": "stdout",
     "output_type": "stream",
     "text": [
      "athens.png\n",
      "athens.webm\n",
      "images/athens2.png\n"
     ]
    }
   ],
   "source": [
    "# List objects in the bucket\n",
    "response = s3_client.list_objects(Bucket=bucket_name)\n",
    "\n",
    "# Print each file name (key)\n",
    "if 'Contents' in response:\n",
    "    for file in response['Contents']:\n",
    "        print(file['Key'])\n",
    "else:\n",
    "    print(\"No files found in the bucket.\")"
   ]
  },
  {
   "cell_type": "markdown",
   "id": "28bdc124-2a8e-4dd2-a8ac-200ed9bc194c",
   "metadata": {},
   "source": [
    "## 3. Download file from a Data Lake"
   ]
  },
  {
   "cell_type": "code",
   "execution_count": 11,
   "id": "a3a10158-16ba-4fdb-85a9-9a267a2d511c",
   "metadata": {},
   "outputs": [
    {
     "name": "stdout",
     "output_type": "stream",
     "text": [
      "Downloaded images/athens2.png to athens_download.png\n"
     ]
    }
   ],
   "source": [
    "# File details\n",
    "download_path='athens_download.png'\n",
    "bucket_name='testbucket'\n",
    "object_name = 'images/athens2.png'    \n",
    "\n",
    "# Download the file\n",
    "s3_client.download_file(bucket_name, object_name, download_path)\n",
    "print(f\"Downloaded {object_name} to {download_path}\")"
   ]
  },
  {
   "cell_type": "markdown",
   "id": "5994f68a-54f6-4e77-9eeb-c22027c7f596",
   "metadata": {},
   "source": [
    "## 4. Delete a file from the Data Lake"
   ]
  },
  {
   "cell_type": "code",
   "execution_count": 7,
   "id": "e9c681da-26b1-4569-9588-ad1f6f813715",
   "metadata": {},
   "outputs": [
    {
     "name": "stdout",
     "output_type": "stream",
     "text": [
      "Delete successful\n"
     ]
    }
   ],
   "source": [
    "# Delete the file\n",
    "s3_client.delete_object(Bucket=bucket_name, Key=object_name)\n",
    "print(\"Delete successful\")"
   ]
  },
  {
   "cell_type": "code",
   "execution_count": null,
   "id": "84019fcf-4013-45ce-9e57-c8efbbf0ce94",
   "metadata": {},
   "outputs": [],
   "source": []
  }
 ],
 "metadata": {
  "kernelspec": {
   "display_name": "Python 3 (ipykernel)",
   "language": "python",
   "name": "python3"
  },
  "language_info": {
   "codemirror_mode": {
    "name": "ipython",
    "version": 3
   },
   "file_extension": ".py",
   "mimetype": "text/x-python",
   "name": "python",
   "nbconvert_exporter": "python",
   "pygments_lexer": "ipython3",
   "version": "3.11.6"
  }
 },
 "nbformat": 4,
 "nbformat_minor": 5
}
